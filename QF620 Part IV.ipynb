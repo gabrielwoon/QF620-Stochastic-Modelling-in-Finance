{
 "cells": [
  {
   "cell_type": "markdown",
   "metadata": {},
   "source": [
    "# QF620 Part IV"
   ]
  },
  {
   "cell_type": "markdown",
   "metadata": {},
   "source": [
    "###### Prepared By:\n",
    "Dani Surya Pangestu  \n",
    "Dominic Fang  \n",
    "Gabriel Woon  \n",
    "Henggao Zhang  \n",
    "Weining Huang  "
   ]
  },
  {
   "cell_type": "markdown",
   "metadata": {
    "id": "eT0g2Ze5L7j1"
   },
   "source": [
    "# Import Library"
   ]
  },
  {
   "cell_type": "code",
   "execution_count": 1,
   "metadata": {
    "id": "FYdYdIoSJVC0"
   },
   "outputs": [],
   "source": [
    "import pandas as pd\n",
    "import numpy as np\n",
    "\n",
    "import matplotlib.pyplot as plt\n",
    "from matplotlib.ticker import PercentFormatter\n",
    "\n",
    "from scipy.stats import norm"
   ]
  },
  {
   "cell_type": "markdown",
   "metadata": {
    "id": "9TrKGUZx3lSz"
   },
   "source": [
    "# Models"
   ]
  },
  {
   "cell_type": "code",
   "execution_count": 2,
   "metadata": {
    "id": "rvuvpPJsO3ef"
   },
   "outputs": [],
   "source": [
    "# Brownian Motion\n",
    "def simulate_Brownian_Motion(paths, steps, T):\n",
    "    deltaT = T/steps\n",
    "    t = np.linspace(0, T, steps+1)\n",
    "    X = np.c_[np.zeros((paths, 1)),\n",
    "              np.random.randn(paths, steps)]\n",
    "    return t, np.cumsum(np.sqrt(deltaT) * X, axis=1)\n",
    "\n",
    "# Black-Scholes Model\n",
    "def BlackScholesCall(S, K, r, sigma, T):\n",
    "    d1 = (np.log(S/K)+(r+sigma**2/2)*T) / (sigma*np.sqrt(T))\n",
    "    d2 = d1 - sigma*np.sqrt(T)\n",
    "    return S*norm.cdf(d1) - K*np.exp(-r*T)*norm.cdf(d2)\n",
    "\n",
    "# Stock Price Simulation\n",
    "def StockPrice_Simulation(steps):\n",
    "    t, Wt = simulate_Brownian_Motion(50000, steps, 1/12)\n",
    "    t =np.linspace(0,T,steps+1)\n",
    "    stockprice=S0*np.exp((r-(sigma**2)/2)*t+sigma*Wt)\n",
    "    return stockprice"
   ]
  },
  {
   "cell_type": "markdown",
   "metadata": {
    "id": "CDcQXi3O3vKH"
   },
   "source": [
    "# Parameters"
   ]
  },
  {
   "cell_type": "code",
   "execution_count": 4,
   "metadata": {
    "id": "sVwa6FECPg46"
   },
   "outputs": [],
   "source": [
    "np.random.seed(1)\n",
    "\n",
    "S0 = 100\n",
    "K = 100\n",
    "T = 1/12\n",
    "sigma = 0.2\n",
    "r = 0.05\n",
    "\n",
    "N1 = 21\n",
    "deltaT1 = T/N1\n",
    "\n",
    "N2 = 84\n",
    "deltaT2 = T/N2"
   ]
  },
  {
   "cell_type": "code",
   "execution_count": 5,
   "metadata": {
    "id": "0vNjkFjGPkgs"
   },
   "outputs": [],
   "source": [
    "steps1 = N1\n",
    "Stockprice1 = StockPrice_Simulation(steps1)\n",
    "\n",
    "steps2 = N2\n",
    "Stockprice2 = StockPrice_Simulation(steps2)"
   ]
  },
  {
   "cell_type": "markdown",
   "metadata": {
    "id": "OYls3E9W3xXV"
   },
   "source": [
    "# Simulation (N=21)"
   ]
  },
  {
   "cell_type": "code",
   "execution_count": 6,
   "metadata": {
    "colab": {
     "base_uri": "https://localhost:8080/",
     "height": 295
    },
    "id": "ytWYn5_pPm1R",
    "outputId": "1cb11cdf-7a18-481e-a7e6-06f62a5e79c3"
   },
   "outputs": [
    {
     "data": {
      "image/png": "[encoded data removed]",
      "text/plain": [
       "<Figure size 432x288 with 1 Axes>"
      ]
     },
     "metadata": {
      "needs_background": "light"
     },
     "output_type": "display_data"
    }
   ],
   "source": [
    "error = 0\n",
    "t1 = np.linspace(0, T, steps1+1)\n",
    "\n",
    "for i in range(N1):\n",
    "    ST = Stockprice1[:,i]\n",
    "    ST_1 = Stockprice1[:,i+1]\n",
    "    deltaT1 = T - t1[i]\n",
    "    changeT = t1[i+1] - t1[i]\n",
    "    Phi = norm.cdf((np.log(ST/K)+(r+sigma**2/2)*deltaT1) / (sigma*np.sqrt(deltaT1)))\n",
    "    Bt_Psi = - K*np.exp(-r*deltaT1)*norm.cdf((np.log(ST/K)+(r-sigma**2/2)*deltaT1) / (sigma*np.sqrt(deltaT1)))\n",
    "    error += (ST_1*Phi+Bt_Psi*np.exp(r*changeT)) - (ST*Phi+Bt_Psi)\n",
    "    \n",
    "error = error+BlackScholesCall(S0, K, r, sigma, T)\n",
    "error = error-np.maximum(Stockprice1[:,N1]-K,0)\n",
    "\n",
    "plt.hist(error,weights = np.ones(len(error))/len(error), bins = np.linspace(-2,2,40))\n",
    "plt.gca().yaxis.set_major_formatter(PercentFormatter(1))\n",
    "plt.title('Hedging Error for N = 21')\n",
    "plt.xlabel('Hedging Error')\n",
    "plt.ylabel('Frequency')\n",
    "plt.yticks(np.arange(0,0.3,0.05))\n",
    "plt.show()"
   ]
  },
  {
   "cell_type": "code",
   "execution_count": 7,
   "metadata": {
    "colab": {
     "base_uri": "https://localhost:8080/"
    },
    "id": "A1S1BG-i-bDb",
    "outputId": "14a6644e-90c9-4c44-d447-0c4bd55ee67c"
   },
   "outputs": [
    {
     "name": "stdout",
     "output_type": "stream",
     "text": [
      "Error Mean = 0.002430782730383343\n",
      "Error Standard Deviation = 0.4247032058239901\n",
      "Error StDev as a % of Option Premium = 0.16906523244707924\n"
     ]
    }
   ],
   "source": [
    "C0 = BlackScholesCall(S0, K, r, sigma, T)\n",
    "print(\"Error Mean =\", error.mean())\n",
    "print(\"Error Standard Deviation =\", error.std())\n",
    "print(\"Error StDev as a % of Option Premium =\", error.std()/C0)"
   ]
  },
  {
   "cell_type": "markdown",
   "metadata": {
    "id": "9UnInIdw32Ew"
   },
   "source": [
    "# Simulation (N=84)"
   ]
  },
  {
   "cell_type": "code",
   "execution_count": 8,
   "metadata": {
    "colab": {
     "base_uri": "https://localhost:8080/",
     "height": 295
    },
    "id": "NpI_-stNPpq_",
    "outputId": "cf4d9abd-53e6-4cfa-a8e5-1d81af3fdc9c"
   },
   "outputs": [
    {
     "data": {
      "image/png": "[encoded data removed]",
      "text/plain": [
       "<Figure size 432x288 with 1 Axes>"
      ]
     },
     "metadata": {
      "needs_background": "light"
     },
     "output_type": "display_data"
    }
   ],
   "source": [
    "error = 0\n",
    "t2 = np.linspace(0, T, steps2+1)\n",
    "\n",
    "for i in range(N2):\n",
    "    ST = Stockprice2[:,i]\n",
    "    ST_1 = Stockprice2[:,i+1]\n",
    "    deltaT2 = T - t2[i]\n",
    "    changeT = t2[i+1] - t2[i]\n",
    "    Phi = norm.cdf((np.log(ST/K)+(r+sigma**2/2)*deltaT2) / (sigma*np.sqrt(deltaT2)))\n",
    "    Bt_Psi = - K*np.exp(-r*deltaT2)*norm.cdf((np.log(ST/K)+(r-sigma**2/2)*deltaT2) / (sigma*np.sqrt(deltaT2)))\n",
    "    error += (ST_1*Phi+Bt_Psi*np.exp(r*changeT)) - (ST*Phi+Bt_Psi)\n",
    "    \n",
    "error=error+BlackScholesCall(S0, K, r, sigma, T)\n",
    "error=error-np.maximum(Stockprice2[:,N2]-K,0)\n",
    "\n",
    "plt.hist(error,weights = np.ones(len(error))/len(error), bins = np.linspace(-2,2,40))\n",
    "plt.gca().yaxis.set_major_formatter(PercentFormatter(1))\n",
    "plt.title('Hedging Error for N = 84')\n",
    "plt.xlabel('Hedging Error')\n",
    "plt.ylabel('Frequency')\n",
    "plt.yticks(np.arange(0,0.3,0.05))\n",
    "plt.show()"
   ]
  },
  {
   "cell_type": "code",
   "execution_count": 9,
   "metadata": {
    "colab": {
     "base_uri": "https://localhost:8080/"
    },
    "id": "iEcl-Hv1a30N",
    "outputId": "3b4577c7-5681-438e-9e06-5fe5e7726d35"
   },
   "outputs": [
    {
     "name": "stdout",
     "output_type": "stream",
     "text": [
      "Error Mean = 0.000932150940198851\n",
      "Error Standard Deviation = 0.2177605882849183\n",
      "Error StDev as a % of Option Premium = 0.08668581722799613\n"
     ]
    }
   ],
   "source": [
    "C0 = BlackScholesCall(S0, K, r, sigma, T)\n",
    "print(\"Error Mean =\", error.mean())\n",
    "print(\"Error Standard Deviation =\", error.std())\n",
    "print(\"Error StDev as a % of Option Premium =\", error.std()/C0)"
   ]
  }
 ],
 "metadata": {
  "colab": {
   "collapsed_sections": [],
   "name": "QF620 - Part IV.ipynb",
   "provenance": []
  },
  "kernelspec": {
   "display_name": "Python 3 (ipykernel)",
   "language": "python",
   "name": "python3"
  },
  "language_info": {
   "codemirror_mode": {
    "name": "ipython",
    "version": 3
   },
   "file_extension": ".py",
   "mimetype": "text/x-python",
   "name": "python",
   "nbconvert_exporter": "python",
   "pygments_lexer": "ipython3",
   "version": "3.9.7"
  }
 },
 "nbformat": 4,
 "nbformat_minor": 1
}
